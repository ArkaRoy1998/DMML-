{
 "cells": [
  {
   "cell_type": "code",
   "execution_count": 1,
   "id": "097ea196",
   "metadata": {},
   "outputs": [],
   "source": [
    "#importing necessary packages\n",
    "import time\n",
    "import random\n",
    "import numpy as np\n",
    "import pandas as pd\n",
    "import matplotlib.pyplot as plt\n",
    "from sklearn.metrics import pairwise_distances\n",
    "from sklearn import cluster\n",
    "from sklearn.cluster import KMeans\n",
    "import seaborn as sns\n",
    "from sklearn.datasets import make_blobs\n",
    "from sklearn.decomposition import PCA\n",
    "import scipy.sparse as sp\n",
    "from tqdm import tqdm\n",
    "from tempfile import mkdtemp\n",
    "import os.path as path\n",
    "from collections import defaultdict\n"
   ]
  },
  {
   "cell_type": "code",
   "execution_count": 3,
   "id": "5920e292",
   "metadata": {},
   "outputs": [
    {
     "name": "stderr",
     "output_type": "stream",
     "text": [
      "3710420it [00:07, 526525.66it/s]"
     ]
    },
    {
     "name": "stdout",
     "output_type": "stream",
     "text": [
      "39861 28102 3710420\n"
     ]
    },
    {
     "name": "stderr",
     "output_type": "stream",
     "text": [
      "\n"
     ]
    }
   ],
   "source": [
    "start = time.time()\n",
    "docword_file = \"/Users/arkaroy/Downloads/bag_of_words/docword.enron.txt\"\n",
    "\n",
    "with open(docword_file, 'r') as f:\n",
    "    header_lines = [next(f) for _ in range(3)]  # Read the first 3 lines\n",
    "    D, W, NNZ = map(int, header_lines)\n",
    "    bog_matrix = sp.lil_array((D,W), dtype='int8')\n",
    "    for line in tqdm(f):\n",
    "        docID, wordID, _ = map(int, line.split())\n",
    "        if docID <= D and wordID <= W:  # Check if indices are within range\n",
    "            bog_matrix[docID-1 , wordID-1] = 1  # Adjust index to start from 0\n",
    "        else:\n",
    "            print(\"Warning: Index out of range\")\n",
    "\n",
    "print(D, W, NNZ)"
   ]
  },
  {
   "cell_type": "code",
   "execution_count": 9,
   "id": "280ce502",
   "metadata": {},
   "outputs": [
    {
     "data": {
      "text/plain": [
       "array([0.5, 0.5, 0.5])"
      ]
     },
     "execution_count": 9,
     "metadata": {},
     "output_type": "execute_result"
    }
   ],
   "source": [
    "a = np.array([1,1,1])\n",
    "b = np.array([0,0,0])\n",
    "\n",
    "np.mean([a,b], axis = 0)"
   ]
  },
  {
   "cell_type": "code",
   "execution_count": 4,
   "id": "52aae62c",
   "metadata": {},
   "outputs": [],
   "source": [
    "class KMeansJaccard:\n",
    "  \"\"\"\n",
    "  KMeans clustering using Jaccard distance metric.\n",
    "  \"\"\"\n",
    "  def __init__(self, n_clusters, max_iter = 100, seed = 42):\n",
    "    self.n_clusters = n_clusters\n",
    "    self.clusters = None\n",
    "    self.centroids = None\n",
    "    random.seed(42)\n",
    "    self.max_iter = max_iter\n",
    "    self.current_iter_no=0\n",
    "    \n",
    "  def fit(self, data):\n",
    "    \"\"\"\n",
    "    Performs KMeans clustering on the given data.\n",
    "\n",
    "    Args:\n",
    "      data: A list of lists, where each inner list represents a data point.\n",
    "    \"\"\"\n",
    "    self._initialize_centroids(data)\n",
    "    self._iterate_until_convergence(data)\n",
    "\n",
    "  def _initialize_centroids(self, data):\n",
    "    \"\"\"\n",
    "    Initializes centroids randomly from the data points.\n",
    "    \"\"\"\n",
    "    centroid_indices = random.sample(range(D), self.n_clusters)\n",
    "    self.centroids= [data.getrow(i).toarray()[0] for i in centroid_indices]\n",
    "\n",
    "  def _jaccard_distance(self, point, centroid):\n",
    "    \"\"\"\n",
    "    Calculates the Jaccard distance between a point and a centroid.\n",
    "    \"\"\"\n",
    "    point = np.array(point)\n",
    "    centroid = np.array(centroid)\n",
    "    intersection = np.sum(point * centroid)\n",
    "    union = np.sum(point) + np.sum(centroid) - intersection\n",
    "    return 1 - float(intersection) / float(union) if union else 1.0\n",
    "\n",
    "  def _assign_to_clusters(self, data):\n",
    "    \"\"\"\n",
    "    Assigns each data point to the closest centroid based on Jaccard distance.\n",
    "    \"\"\"\n",
    "    self.clusters = defaultdict(list)\n",
    "    for i in range(D):\n",
    "      point = data.getrow(i).toarray()[0]\n",
    "      min_distance = float('inf')\n",
    "      min_cluster = None\n",
    "      \n",
    "      for centroid in self.centroids:\n",
    "        distance = self._jaccard_distance(point, centroid)\n",
    "        if distance < min_distance:\n",
    "          min_distance = distance\n",
    "          min_cluster = centroid\n",
    "\n",
    "      try:\n",
    "        self.clusters[tuple(min_cluster)].append(i)\n",
    "      except TypeError:\n",
    "        raise TypeError(type(min_cluster), min_cluster, point, centroid, distance, [type(i) for i in self.centroids])\n",
    "\n",
    "  def _update_centroids(self, data):\n",
    "    \"\"\"\n",
    "    Updates the centroids based on the mean of the points in each cluster.\n",
    "    \"\"\"\n",
    "    new_centroids = []\n",
    "    for cluster, point_indices in self.clusters.items():\n",
    "      if point_indices:\n",
    "        points = [data.getrow(i).toarray()[0] for i in point_indices]\n",
    "        # Jaccard distance doesn't have a meaningful centroid, we exercise our liberty to use a probablistic measure of centroid.\n",
    "        new_centroid = np.mean(points, axis = 0)\n",
    "        # print(new_centroid)\n",
    "      else:\n",
    "        new_centroid_index = random.randrange(D) # Reassign in case of empty cluster\n",
    "        new_centroid = data.getrow(new_centroid_index).toarray()[0]\n",
    "      new_centroids.append(new_centroid)\n",
    "    self.centroids = new_centroids\n",
    "\n",
    "  def _iterate_until_convergence(self, data):\n",
    "    \"\"\"\n",
    "    Iterates until the centroids no longer change significantly.\n",
    "    \"\"\"\n",
    "    prev_centroids = None\n",
    "    while ((prev_centroids is None or not all(\n",
    "        all(centroid == new_centroid) for centroid, new_centroid in zip(prev_centroids, self.centroids))) and (self.current_iter_no < self.max_iter)):\n",
    "          \n",
    "      prev_centroids = self.centroids.copy()\n",
    "      self._assign_to_clusters(data)\n",
    "      self._update_centroids(data)\n",
    "      self.current_iter_no += 1\n",
    "      print(f\"Clusters = {self.n_clusters}, Iteration number = {self.current_iter_no}\")\n",
    "\n",
    "  def inertia(self, data):\n",
    "    \"\"\"\n",
    "    Calculates the inertia (sum of squared distances to centroids) for current clusters.\n",
    "\n",
    "    Returns:\n",
    "      The total inertia of the clustering.\n",
    "    \"\"\"\n",
    "    if not self.clusters:\n",
    "      raise ValueError(\"Model not fitted yet. Call fit(data) before using inertia\")\n",
    "    inertia = 0\n",
    "    for centroid, point_indices in self.clusters.items():\n",
    "      points = [data.getrow(i).toarray()[0] for i in point_indices]\n",
    "      for point in points:\n",
    "        inertia += self._jaccard_distance(point, centroid)\n",
    "    return inertia\n",
    "\n",
    "  # def get_labels(self, data):\n",
    "  #   \"\"\"\n",
    "  #   Assigns labels to new data points based on the closest centroid.\n",
    "\n",
    "  #   Args:\n",
    "  #     data: A list of lists, where each inner list represents a new data point.\n",
    "\n",
    "  #   Returns:\n",
    "  #     A list of cluster labels for the new data points.\n",
    "  #   \"\"\"\n",
    "  #   labels = []\n",
    "  #   for point in data:\n",
    "  #     min_distance = float('inf')\n",
    "  #     min_cluster = None\n",
    "  #     for centroid in self.centroids:\n",
    "  #       distance = self._jaccard_distance(point, centroid)\n",
    "  #       if distance < min_distance:\n",
    "  #         min_distance = distance\n",
    "  #         min_cluster = centroid\n",
    "  #     labels.append(min_cluster)\n",
    "  #   return labels\n"
   ]
  },
  {
   "cell_type": "code",
   "execution_count": 4,
   "id": "c2d5bb06-7de5-42c3-bf8f-438c58fbc245",
   "metadata": {},
   "outputs": [],
   "source": [
    "class KMeansJaccard:\n",
    "  \"\"\"\n",
    "  KMeans clustering using Jaccard distance metric.\n",
    "  \"\"\"\n",
    "  def __init__(self, n_clusters, max_iter = 100, seed = 42):\n",
    "    self.n_clusters = n_clusters\n",
    "    self.clusters = None\n",
    "    self.centroids = None\n",
    "    random.seed(42)\n",
    "    self.max_iter = max_iter\n",
    "    self.current_iter_no=0\n",
    "    \n",
    "  def fit(self, data):\n",
    "    \"\"\"\n",
    "    Performs KMeans clustering on the given data.\n",
    "\n",
    "    Args:\n",
    "      data: A list of lists, where each inner list represents a data point.\n",
    "    \"\"\"\n",
    "    self._initialize_centroids(data)\n",
    "    self._iterate_until_convergence(data)\n",
    "\n",
    "  def _initialize_centroids(self, data):\n",
    "    \"\"\"\n",
    "    Initializes centroids randomly from the data points.\n",
    "    \"\"\"\n",
    "    centroid_indices = random.sample(range(D), self.n_clusters)\n",
    "    self.centroids= [data.getrow(i).toarray()[0] for i in centroid_indices]\n",
    "\n",
    "  def _jaccard_distance(self, point, centroid):\n",
    "    \"\"\"\n",
    "    Calculates the Jaccard distance between a point and a centroid.\n",
    "    \"\"\"\n",
    "    point = np.array(point)\n",
    "    centroid = np.array(centroid)\n",
    "    intersection = np.sum(point * centroid)\n",
    "    union = np.sum(point) + np.sum(centroid) - intersection\n",
    "    return 1 - float(intersection) / float(union) if union else 1.0\n",
    "\n",
    "  def _assign_to_clusters(self, data):\n",
    "    \"\"\"\n",
    "    Assigns each data point to the closest centroid based on Jaccard distance.\n",
    "    \"\"\"\n",
    "    self.clusters = defaultdict(list)\n",
    "    for i in range(D):\n",
    "      point = data.getrow(i).toarray()[0]\n",
    "      min_distance = float('inf')\n",
    "      min_cluster = None\n",
    "      \n",
    "      for centroid in self.centroids:\n",
    "        distance = self._jaccard_distance(point, centroid)\n",
    "        if distance < min_distance:\n",
    "          min_distance = distance\n",
    "          min_cluster = centroid\n",
    "\n",
    "      try:\n",
    "        self.clusters[tuple(min_cluster)].append(i)\n",
    "      except TypeError:\n",
    "        raise TypeError(type(min_cluster), min_cluster, point, centroid, distance, [type(i) for i in self.centroids])\n",
    "\n",
    "  def _update_centroids(self, data):\n",
    "    \"\"\"\n",
    "    Updates the centroids based on the mean of the points in each cluster.\n",
    "    \"\"\"\n",
    "    new_centroids = []\n",
    "    for cluster, point_indices in self.clusters.items():\n",
    "      if point_indices:\n",
    "        points = [data.getrow(i).toarray()[0] for i in point_indices]\n",
    "        # Jaccard distance doesn't have a meaningful centroid, we exercise our liberty to use a probablistic measure of centroid.\n",
    "        new_centroid = np.mean(points, axis = 0)\n",
    "        # print(new_centroid)\n",
    "      else:\n",
    "        new_centroid_index = random.randrange(D) # Reassign in case of empty cluster\n",
    "        new_centroid = data.getrow(new_centroid_index).toarray()[0]\n",
    "      new_centroids.append(new_centroid)\n",
    "    self.centroids = new_centroids\n",
    "\n",
    "  def _iterate_until_convergence(self, data):\n",
    "    \"\"\"\n",
    "    Iterates until the centroids no longer change significantly.\n",
    "    \"\"\"\n",
    "    prev_centroids = None\n",
    "    while ((prev_centroids is None or not all(\n",
    "        all(centroid == new_centroid) for centroid, new_centroid in zip(prev_centroids, self.centroids))) and (self.current_iter_no < self.max_iter)):\n",
    "          \n",
    "      prev_centroids = self.centroids.copy()\n",
    "      self._assign_to_clusters(data)\n",
    "      self._update_centroids(data)\n",
    "      self.current_iter_no += 1\n",
    "      print(f\"Clusters = {self.n_clusters}, Iteration number = {self.current_iter_no}\")\n",
    "\n",
    "  def inertia(self, data):\n",
    "    \"\"\"\n",
    "    Calculates the inertia (sum of squared distances to centroids) for current clusters.\n",
    "\n",
    "    Returns:\n",
    "      The total inertia of the clustering.\n",
    "    \"\"\"\n",
    "    if not self.clusters:\n",
    "      raise ValueError(\"Model not fitted yet. Call fit(data) before using inertia\")\n",
    "    inertia = 0\n",
    "    for centroid, point_indices in self.clusters.items():\n",
    "      points = [data.getrow(i).toarray()[0] for i in point_indices]\n",
    "      for point in points:\n",
    "        inertia += self._jaccard_distance(point, centroid)\n",
    "    return inertia\n",
    "\n",
    "  # def get_labels(self, data):\n",
    "  #   \"\"\"\n",
    "  #   Assigns labels to new data points based on the closest centroid.\n",
    "\n",
    "  #   Args:\n",
    "  #     data: A list of lists, where each inner list represents a new data point.\n",
    "\n",
    "  #   Returns:\n",
    "  #     A list of cluster labels for the new data points.\n",
    "  #   \"\"\"\n",
    "  #   labels = []\n",
    "  #   for point in data:\n",
    "  #     min_distance = float('inf')\n",
    "  #     min_cluster = None\n",
    "  #     for centroid in self.centroids:\n",
    "  #       distance = self._jaccard_distance(point, centroid)\n",
    "  #       if distance < min_distance:\n",
    "  #         min_distance = distance\n",
    "  #         min_cluster = centroid\n",
    "  #     labels.append(min_cluster)\n",
    "  #   return labels\n"
   ]
  },
  {
   "cell_type": "code",
   "execution_count": 11,
   "id": "1cf037cc",
   "metadata": {},
   "outputs": [
    {
     "data": {
      "text/plain": [
       "defaultdict(list, {'a': [1]})"
      ]
     },
     "execution_count": 11,
     "metadata": {},
     "output_type": "execute_result"
    }
   ],
   "source": [
    "a = defaultdict(list)\n",
    "a['a'].append(1)\n",
    "a"
   ]
  },
  {
   "cell_type": "code",
   "execution_count": 5,
   "id": "009ffd64",
   "metadata": {},
   "outputs": [
    {
     "name": "stderr",
     "output_type": "stream",
     "text": [
      "  0%|                                                                                                                                                                                                                   | 0/9 [00:00<?, ?it/s]"
     ]
    },
    {
     "name": "stdout",
     "output_type": "stream",
     "text": [
      "Clusters = 1, Iteration number = 1\n",
      "Clusters = 1, Iteration number = 2\n"
     ]
    },
    {
     "name": "stderr",
     "output_type": "stream",
     "text": [
      " 11%|██████████████████████▍                                                                                                                                                                                   | 1/9 [01:43<13:48, 103.59s/it]"
     ]
    },
    {
     "name": "stdout",
     "output_type": "stream",
     "text": [
      "Clusters = 2, Iteration number = 1\n",
      "Clusters = 2, Iteration number = 2\n",
      "Clusters = 2, Iteration number = 3\n",
      "Clusters = 2, Iteration number = 4\n",
      "Clusters = 2, Iteration number = 5\n",
      "Clusters = 2, Iteration number = 6\n",
      "Clusters = 2, Iteration number = 7\n",
      "Clusters = 2, Iteration number = 8\n",
      "Clusters = 2, Iteration number = 9\n",
      "Clusters = 2, Iteration number = 10\n",
      "Clusters = 2, Iteration number = 11\n",
      "Clusters = 2, Iteration number = 12\n",
      "Clusters = 2, Iteration number = 13\n"
     ]
    },
    {
     "name": "stderr",
     "output_type": "stream",
     "text": [
      " 22%|████████████████████████████████████████████▉                                                                                                                                                             | 2/9 [11:46<46:21, 397.30s/it]"
     ]
    },
    {
     "name": "stdout",
     "output_type": "stream",
     "text": [
      "Clusters = 3, Iteration number = 1\n",
      "Clusters = 3, Iteration number = 2\n",
      "Clusters = 3, Iteration number = 3\n",
      "Clusters = 3, Iteration number = 4\n",
      "Clusters = 3, Iteration number = 5\n",
      "Clusters = 3, Iteration number = 6\n",
      "Clusters = 3, Iteration number = 7\n",
      "Clusters = 3, Iteration number = 8\n",
      "Clusters = 3, Iteration number = 9\n",
      "Clusters = 3, Iteration number = 10\n",
      "Clusters = 3, Iteration number = 11\n",
      "Clusters = 3, Iteration number = 12\n",
      "Clusters = 3, Iteration number = 13\n",
      "Clusters = 3, Iteration number = 14\n",
      "Clusters = 3, Iteration number = 15\n",
      "Clusters = 3, Iteration number = 16\n",
      "Clusters = 3, Iteration number = 17\n",
      "Clusters = 3, Iteration number = 18\n",
      "Clusters = 3, Iteration number = 19\n",
      "Clusters = 3, Iteration number = 20\n",
      "Clusters = 3, Iteration number = 21\n",
      "Clusters = 3, Iteration number = 22\n",
      "Clusters = 3, Iteration number = 23\n"
     ]
    },
    {
     "name": "stderr",
     "output_type": "stream",
     "text": [
      " 33%|██████████████████████████████████████████████████████████████████▎                                                                                                                                    | 3/9 [59:58<2:33:37, 1536.28s/it]"
     ]
    },
    {
     "name": "stdout",
     "output_type": "stream",
     "text": [
      "Clusters = 4, Iteration number = 1\n",
      "Clusters = 4, Iteration number = 2\n",
      "Clusters = 4, Iteration number = 3\n",
      "Clusters = 4, Iteration number = 4\n",
      "Clusters = 4, Iteration number = 5\n",
      "Clusters = 4, Iteration number = 6\n",
      "Clusters = 4, Iteration number = 7\n",
      "Clusters = 4, Iteration number = 8\n",
      "Clusters = 4, Iteration number = 9\n",
      "Clusters = 4, Iteration number = 10\n",
      "Clusters = 4, Iteration number = 11\n",
      "Clusters = 4, Iteration number = 12\n",
      "Clusters = 4, Iteration number = 13\n",
      "Clusters = 4, Iteration number = 14\n",
      "Clusters = 4, Iteration number = 15\n",
      "Clusters = 4, Iteration number = 16\n",
      "Clusters = 4, Iteration number = 17\n",
      "Clusters = 4, Iteration number = 18\n",
      "Clusters = 4, Iteration number = 19\n",
      "Clusters = 4, Iteration number = 20\n",
      "Clusters = 4, Iteration number = 21\n",
      "Clusters = 4, Iteration number = 22\n",
      "Clusters = 4, Iteration number = 23\n",
      "Clusters = 4, Iteration number = 24\n",
      "Clusters = 4, Iteration number = 25\n",
      "Clusters = 4, Iteration number = 26\n",
      "Clusters = 4, Iteration number = 27\n",
      "Clusters = 4, Iteration number = 28\n",
      "Clusters = 4, Iteration number = 29\n",
      "Clusters = 4, Iteration number = 30\n",
      "Clusters = 4, Iteration number = 31\n",
      "Clusters = 4, Iteration number = 32\n",
      "Clusters = 4, Iteration number = 33\n",
      "Clusters = 4, Iteration number = 34\n",
      "Clusters = 4, Iteration number = 35\n",
      "Clusters = 4, Iteration number = 36\n",
      "Clusters = 4, Iteration number = 37\n",
      "Clusters = 4, Iteration number = 38\n",
      "Clusters = 4, Iteration number = 39\n",
      "Clusters = 4, Iteration number = 40\n",
      "Clusters = 4, Iteration number = 41\n",
      "Clusters = 4, Iteration number = 42\n",
      "Clusters = 4, Iteration number = 43\n"
     ]
    },
    {
     "name": "stderr",
     "output_type": "stream",
     "text": [
      " 44%|███████████████████████████████████████████████████████████████████████████████████████▌                                                                                                             | 4/9 [1:37:16<2:31:06, 1813.31s/it]"
     ]
    },
    {
     "name": "stdout",
     "output_type": "stream",
     "text": [
      "Clusters = 5, Iteration number = 1\n",
      "Clusters = 5, Iteration number = 2\n",
      "Clusters = 5, Iteration number = 3\n",
      "Clusters = 5, Iteration number = 4\n",
      "Clusters = 5, Iteration number = 5\n",
      "Clusters = 5, Iteration number = 6\n",
      "Clusters = 5, Iteration number = 7\n",
      "Clusters = 5, Iteration number = 8\n",
      "Clusters = 5, Iteration number = 9\n",
      "Clusters = 5, Iteration number = 10\n",
      "Clusters = 5, Iteration number = 11\n",
      "Clusters = 5, Iteration number = 12\n",
      "Clusters = 5, Iteration number = 13\n",
      "Clusters = 5, Iteration number = 14\n",
      "Clusters = 5, Iteration number = 15\n",
      "Clusters = 5, Iteration number = 16\n",
      "Clusters = 5, Iteration number = 17\n",
      "Clusters = 5, Iteration number = 18\n",
      "Clusters = 5, Iteration number = 19\n",
      "Clusters = 5, Iteration number = 20\n",
      "Clusters = 5, Iteration number = 21\n",
      "Clusters = 5, Iteration number = 22\n",
      "Clusters = 5, Iteration number = 23\n",
      "Clusters = 5, Iteration number = 24\n",
      "Clusters = 5, Iteration number = 25\n",
      "Clusters = 5, Iteration number = 26\n",
      "Clusters = 5, Iteration number = 27\n",
      "Clusters = 5, Iteration number = 28\n",
      "Clusters = 5, Iteration number = 29\n",
      "Clusters = 5, Iteration number = 30\n",
      "Clusters = 5, Iteration number = 31\n",
      "Clusters = 5, Iteration number = 32\n",
      "Clusters = 5, Iteration number = 33\n",
      "Clusters = 5, Iteration number = 34\n",
      "Clusters = 5, Iteration number = 35\n",
      "Clusters = 5, Iteration number = 36\n",
      "Clusters = 5, Iteration number = 37\n",
      "Clusters = 5, Iteration number = 38\n",
      "Clusters = 5, Iteration number = 39\n",
      "Clusters = 5, Iteration number = 40\n"
     ]
    },
    {
     "name": "stderr",
     "output_type": "stream",
     "text": [
      " 56%|█████████████████████████████████████████████████████████████████████████████████████████████████████████████▍                                                                                       | 5/9 [2:15:48<2:12:52, 1993.15s/it]"
     ]
    },
    {
     "name": "stdout",
     "output_type": "stream",
     "text": [
      "Clusters = 6, Iteration number = 1\n",
      "Clusters = 6, Iteration number = 2\n",
      "Clusters = 6, Iteration number = 3\n",
      "Clusters = 6, Iteration number = 4\n",
      "Clusters = 6, Iteration number = 5\n",
      "Clusters = 6, Iteration number = 6\n",
      "Clusters = 6, Iteration number = 7\n",
      "Clusters = 6, Iteration number = 8\n",
      "Clusters = 6, Iteration number = 9\n",
      "Clusters = 6, Iteration number = 10\n",
      "Clusters = 6, Iteration number = 11\n",
      "Clusters = 6, Iteration number = 12\n",
      "Clusters = 6, Iteration number = 13\n",
      "Clusters = 6, Iteration number = 14\n",
      "Clusters = 6, Iteration number = 15\n",
      "Clusters = 6, Iteration number = 16\n",
      "Clusters = 6, Iteration number = 17\n",
      "Clusters = 6, Iteration number = 18\n",
      "Clusters = 6, Iteration number = 19\n",
      "Clusters = 6, Iteration number = 20\n",
      "Clusters = 6, Iteration number = 21\n",
      "Clusters = 6, Iteration number = 22\n",
      "Clusters = 6, Iteration number = 23\n",
      "Clusters = 6, Iteration number = 24\n",
      "Clusters = 6, Iteration number = 25\n",
      "Clusters = 6, Iteration number = 26\n",
      "Clusters = 6, Iteration number = 27\n",
      "Clusters = 6, Iteration number = 28\n",
      "Clusters = 6, Iteration number = 29\n",
      "Clusters = 6, Iteration number = 30\n",
      "Clusters = 6, Iteration number = 31\n",
      "Clusters = 6, Iteration number = 32\n",
      "Clusters = 6, Iteration number = 33\n",
      "Clusters = 6, Iteration number = 34\n"
     ]
    },
    {
     "name": "stderr",
     "output_type": "stream",
     "text": [
      " 67%|███████████████████████████████████████████████████████████████████████████████████████████████████████████████████████████████████▎                                                                 | 6/9 [3:04:16<1:55:12, 2304.24s/it]"
     ]
    },
    {
     "name": "stdout",
     "output_type": "stream",
     "text": [
      "Clusters = 7, Iteration number = 1\n",
      "Clusters = 7, Iteration number = 2\n",
      "Clusters = 7, Iteration number = 3\n",
      "Clusters = 7, Iteration number = 4\n",
      "Clusters = 7, Iteration number = 5\n",
      "Clusters = 7, Iteration number = 6\n",
      "Clusters = 7, Iteration number = 7\n",
      "Clusters = 7, Iteration number = 8\n",
      "Clusters = 7, Iteration number = 9\n",
      "Clusters = 7, Iteration number = 10\n",
      "Clusters = 7, Iteration number = 11\n",
      "Clusters = 7, Iteration number = 12\n",
      "Clusters = 7, Iteration number = 13\n",
      "Clusters = 7, Iteration number = 14\n",
      "Clusters = 7, Iteration number = 15\n",
      "Clusters = 7, Iteration number = 16\n",
      "Clusters = 7, Iteration number = 17\n",
      "Clusters = 7, Iteration number = 18\n",
      "Clusters = 7, Iteration number = 19\n",
      "Clusters = 7, Iteration number = 20\n",
      "Clusters = 7, Iteration number = 21\n",
      "Clusters = 7, Iteration number = 22\n",
      "Clusters = 7, Iteration number = 23\n",
      "Clusters = 7, Iteration number = 24\n",
      "Clusters = 7, Iteration number = 25\n",
      "Clusters = 7, Iteration number = 26\n",
      "Clusters = 7, Iteration number = 27\n",
      "Clusters = 7, Iteration number = 28\n",
      "Clusters = 7, Iteration number = 29\n",
      "Clusters = 7, Iteration number = 30\n",
      "Clusters = 7, Iteration number = 31\n",
      "Clusters = 7, Iteration number = 32\n",
      "Clusters = 7, Iteration number = 33\n",
      "Clusters = 7, Iteration number = 34\n",
      "Clusters = 7, Iteration number = 35\n",
      "Clusters = 7, Iteration number = 36\n",
      "Clusters = 7, Iteration number = 37\n",
      "Clusters = 7, Iteration number = 38\n",
      "Clusters = 7, Iteration number = 39\n",
      "Clusters = 7, Iteration number = 40\n",
      "Clusters = 7, Iteration number = 41\n"
     ]
    },
    {
     "name": "stderr",
     "output_type": "stream",
     "text": [
      " 78%|█████████████████████████████████████████████████████████████████████████████████████████████████████████████████████████████████████████████████████████▏                                           | 7/9 [3:50:20<1:21:49, 2454.67s/it]"
     ]
    },
    {
     "name": "stdout",
     "output_type": "stream",
     "text": [
      "Clusters = 8, Iteration number = 1\n",
      "Clusters = 8, Iteration number = 2\n",
      "Clusters = 8, Iteration number = 3\n",
      "Clusters = 8, Iteration number = 4\n",
      "Clusters = 8, Iteration number = 5\n",
      "Clusters = 8, Iteration number = 6\n",
      "Clusters = 8, Iteration number = 7\n",
      "Clusters = 8, Iteration number = 8\n",
      "Clusters = 8, Iteration number = 9\n",
      "Clusters = 8, Iteration number = 10\n",
      "Clusters = 8, Iteration number = 11\n",
      "Clusters = 8, Iteration number = 12\n",
      "Clusters = 8, Iteration number = 13\n",
      "Clusters = 8, Iteration number = 14\n",
      "Clusters = 8, Iteration number = 15\n",
      "Clusters = 8, Iteration number = 16\n",
      "Clusters = 8, Iteration number = 17\n",
      "Clusters = 8, Iteration number = 18\n",
      "Clusters = 8, Iteration number = 19\n",
      "Clusters = 8, Iteration number = 20\n",
      "Clusters = 8, Iteration number = 21\n",
      "Clusters = 8, Iteration number = 22\n",
      "Clusters = 8, Iteration number = 23\n",
      "Clusters = 8, Iteration number = 24\n",
      "Clusters = 8, Iteration number = 25\n",
      "Clusters = 8, Iteration number = 26\n",
      "Clusters = 8, Iteration number = 27\n",
      "Clusters = 8, Iteration number = 28\n",
      "Clusters = 8, Iteration number = 29\n",
      "Clusters = 8, Iteration number = 30\n",
      "Clusters = 8, Iteration number = 31\n",
      "Clusters = 8, Iteration number = 32\n",
      "Clusters = 8, Iteration number = 33\n",
      "Clusters = 8, Iteration number = 34\n",
      "Clusters = 8, Iteration number = 35\n"
     ]
    },
    {
     "name": "stderr",
     "output_type": "stream",
     "text": [
      " 89%|████████████████████████████████████████████████████████████████████████████████████████████████████████████████████████████████████████████████████████████████████████████████▉                      | 8/9 [4:29:03<40:12, 2412.66s/it]"
     ]
    },
    {
     "name": "stdout",
     "output_type": "stream",
     "text": [
      "Clusters = 9, Iteration number = 1\n",
      "Clusters = 9, Iteration number = 2\n",
      "Clusters = 9, Iteration number = 3\n",
      "Clusters = 9, Iteration number = 4\n",
      "Clusters = 9, Iteration number = 5\n",
      "Clusters = 9, Iteration number = 6\n",
      "Clusters = 9, Iteration number = 7\n",
      "Clusters = 9, Iteration number = 8\n",
      "Clusters = 9, Iteration number = 9\n",
      "Clusters = 9, Iteration number = 10\n",
      "Clusters = 9, Iteration number = 11\n",
      "Clusters = 9, Iteration number = 12\n",
      "Clusters = 9, Iteration number = 13\n",
      "Clusters = 9, Iteration number = 14\n",
      "Clusters = 9, Iteration number = 15\n",
      "Clusters = 9, Iteration number = 16\n",
      "Clusters = 9, Iteration number = 17\n",
      "Clusters = 9, Iteration number = 18\n",
      "Clusters = 9, Iteration number = 19\n",
      "Clusters = 9, Iteration number = 20\n",
      "Clusters = 9, Iteration number = 21\n",
      "Clusters = 9, Iteration number = 22\n",
      "Clusters = 9, Iteration number = 23\n",
      "Clusters = 9, Iteration number = 24\n",
      "Clusters = 9, Iteration number = 25\n",
      "Clusters = 9, Iteration number = 26\n",
      "Clusters = 9, Iteration number = 27\n",
      "Clusters = 9, Iteration number = 28\n",
      "Clusters = 9, Iteration number = 29\n",
      "Clusters = 9, Iteration number = 30\n",
      "Clusters = 9, Iteration number = 31\n",
      "Clusters = 9, Iteration number = 32\n",
      "Clusters = 9, Iteration number = 33\n",
      "Clusters = 9, Iteration number = 34\n",
      "Clusters = 9, Iteration number = 35\n",
      "Clusters = 9, Iteration number = 36\n",
      "Clusters = 9, Iteration number = 37\n",
      "Clusters = 9, Iteration number = 38\n",
      "Clusters = 9, Iteration number = 39\n",
      "Clusters = 9, Iteration number = 40\n",
      "Clusters = 9, Iteration number = 41\n",
      "Clusters = 9, Iteration number = 42\n",
      "Clusters = 9, Iteration number = 43\n",
      "Clusters = 9, Iteration number = 44\n",
      "Clusters = 9, Iteration number = 45\n",
      "Clusters = 9, Iteration number = 46\n",
      "Clusters = 9, Iteration number = 47\n",
      "Clusters = 9, Iteration number = 48\n",
      "Clusters = 9, Iteration number = 49\n",
      "Clusters = 9, Iteration number = 50\n"
     ]
    },
    {
     "name": "stderr",
     "output_type": "stream",
     "text": [
      "100%|███████████████████████████████████████████████████████████████████████████████████████████████████████████████████████████████████████████████████████████████████████████████████████████████████████| 9/9 [5:31:36<00:00, 2210.73s/it]\n"
     ]
    }
   ],
   "source": [
    "#Fitting the model for different number of clusters\n",
    "l = []\n",
    "for i in tqdm(range(1,10)):\n",
    "    model = KMeansJaccard(n_clusters=i, max_iter=100)\n",
    "    model.fit(bog_matrix)\n",
    "    l.append(model.inertia(bog_matrix))"
   ]
  },
  {
   "cell_type": "code",
   "execution_count": null,
   "id": "a0661f1d",
   "metadata": {},
   "outputs": [],
   "source": []
  },
  {
   "cell_type": "code",
   "execution_count": 6,
   "id": "9578c24d",
   "metadata": {},
   "outputs": [
    {
     "data": {
      "text/plain": [
       "[<matplotlib.lines.Line2D at 0x1661a2650>]"
      ]
     },
     "execution_count": 6,
     "metadata": {},
     "output_type": "execute_result"
    },
    {
     "data": {
      "image/png": "[encoded data removed]",
      "text/plain": [
       "<Figure size 640x480 with 1 Axes>"
      ]
     },
     "metadata": {},
     "output_type": "display_data"
    }
   ],
   "source": [
    "plt.title(\"enron\")\n",
    "plt.xlabel(\"No. of clusters\")\n",
    "plt.ylabel(\"Inertia\")\n",
    "plt.plot(list(range(1,10)),l,c=\"b\",marker=\"o\",markerfacecolor=\"red\",markersize=10)"
   ]
  },
  {
   "cell_type": "code",
   "execution_count": 8,
   "id": "2d20707e",
   "metadata": {},
   "outputs": [
    {
     "name": "stdout",
     "output_type": "stream",
     "text": [
      "Time taken: 22961.25327181816\n"
     ]
    }
   ],
   "source": [
    "end = time.time()\n",
    "print(\"Time taken:\",end-start)"
   ]
  },
  {
   "cell_type": "code",
   "execution_count": 9,
   "id": "d7c6c5cd-8f55-4400-af83-7efd1af8c2aa",
   "metadata": {},
   "outputs": [
    {
     "name": "stderr",
     "output_type": "stream",
     "text": [
      "746316it [00:01, 541358.32it/s]"
     ]
    },
    {
     "name": "stdout",
     "output_type": "stream",
     "text": [
      "1500 12419 746316\n"
     ]
    },
    {
     "name": "stderr",
     "output_type": "stream",
     "text": [
      "\n"
     ]
    }
   ],
   "source": [
    "start = time.time()\n",
    "docword_file = \"/Users/arkaroy/Downloads/bag_of_words/docword.nips.txt\"\n",
    "\n",
    "with open(docword_file, 'r') as f:\n",
    "    header_lines = [next(f) for _ in range(3)]  # Read the first 3 lines\n",
    "    D, W, NNZ = map(int, header_lines)\n",
    "    bog_matrix = sp.lil_array((D,W), dtype='int8')\n",
    "    for line in tqdm(f):\n",
    "        docID, wordID, _ = map(int, line.split())\n",
    "        if docID <= D and wordID <= W:  # Check if indices are within range\n",
    "            bog_matrix[docID-1 , wordID-1] = 1  # Adjust index to start from 0\n",
    "        else:\n",
    "            print(\"Warning: Index out of range\")\n",
    "\n",
    "print(D, W, NNZ)"
   ]
  },
  {
   "cell_type": "code",
   "execution_count": 10,
   "id": "04bebdb6-9c92-42f1-8e2e-1465df798bfa",
   "metadata": {},
   "outputs": [
    {
     "name": "stderr",
     "output_type": "stream",
     "text": [
      "  0%|                                                                                                                                                                                                                   | 0/9 [00:00<?, ?it/s]"
     ]
    },
    {
     "name": "stdout",
     "output_type": "stream",
     "text": [
      "Clusters = 1, Iteration number = 1\n",
      "Clusters = 1, Iteration number = 2\n"
     ]
    },
    {
     "name": "stderr",
     "output_type": "stream",
     "text": [
      " 11%|██████████████████████▌                                                                                                                                                                                    | 1/9 [00:02<00:18,  2.34s/it]"
     ]
    },
    {
     "name": "stdout",
     "output_type": "stream",
     "text": [
      "Clusters = 2, Iteration number = 1\n",
      "Clusters = 2, Iteration number = 2\n",
      "Clusters = 2, Iteration number = 3\n",
      "Clusters = 2, Iteration number = 4\n",
      "Clusters = 2, Iteration number = 5\n",
      "Clusters = 2, Iteration number = 6\n",
      "Clusters = 2, Iteration number = 7\n",
      "Clusters = 2, Iteration number = 8\n",
      "Clusters = 2, Iteration number = 9\n"
     ]
    },
    {
     "name": "stderr",
     "output_type": "stream",
     "text": [
      " 22%|█████████████████████████████████████████████                                                                                                                                                              | 2/9 [00:11<00:43,  6.25s/it]"
     ]
    },
    {
     "name": "stdout",
     "output_type": "stream",
     "text": [
      "Clusters = 3, Iteration number = 1\n",
      "Clusters = 3, Iteration number = 2\n",
      "Clusters = 3, Iteration number = 3\n",
      "Clusters = 3, Iteration number = 4\n",
      "Clusters = 3, Iteration number = 5\n",
      "Clusters = 3, Iteration number = 6\n",
      "Clusters = 3, Iteration number = 7\n",
      "Clusters = 3, Iteration number = 8\n",
      "Clusters = 3, Iteration number = 9\n",
      "Clusters = 3, Iteration number = 10\n",
      "Clusters = 3, Iteration number = 11\n"
     ]
    },
    {
     "name": "stderr",
     "output_type": "stream",
     "text": [
      " 33%|███████████████████████████████████████████████████████████████████▋                                                                                                                                       | 3/9 [00:23<00:54,  9.03s/it]"
     ]
    },
    {
     "name": "stdout",
     "output_type": "stream",
     "text": [
      "Clusters = 4, Iteration number = 1\n",
      "Clusters = 4, Iteration number = 2\n",
      "Clusters = 4, Iteration number = 3\n",
      "Clusters = 4, Iteration number = 4\n",
      "Clusters = 4, Iteration number = 5\n",
      "Clusters = 4, Iteration number = 6\n",
      "Clusters = 4, Iteration number = 7\n",
      "Clusters = 4, Iteration number = 8\n",
      "Clusters = 4, Iteration number = 9\n",
      "Clusters = 4, Iteration number = 10\n",
      "Clusters = 4, Iteration number = 11\n",
      "Clusters = 4, Iteration number = 12\n",
      "Clusters = 4, Iteration number = 13\n"
     ]
    },
    {
     "name": "stderr",
     "output_type": "stream",
     "text": [
      " 44%|██████████████████████████████████████████████████████████████████████████████████████████▏                                                                                                                | 4/9 [00:38<00:57, 11.42s/it]"
     ]
    },
    {
     "name": "stdout",
     "output_type": "stream",
     "text": [
      "Clusters = 5, Iteration number = 1\n",
      "Clusters = 5, Iteration number = 2\n",
      "Clusters = 5, Iteration number = 3\n",
      "Clusters = 5, Iteration number = 4\n",
      "Clusters = 5, Iteration number = 5\n",
      "Clusters = 5, Iteration number = 6\n",
      "Clusters = 5, Iteration number = 7\n",
      "Clusters = 5, Iteration number = 8\n",
      "Clusters = 5, Iteration number = 9\n",
      "Clusters = 5, Iteration number = 10\n",
      "Clusters = 5, Iteration number = 11\n",
      "Clusters = 5, Iteration number = 12\n",
      "Clusters = 5, Iteration number = 13\n",
      "Clusters = 5, Iteration number = 14\n"
     ]
    },
    {
     "name": "stderr",
     "output_type": "stream",
     "text": [
      " 56%|████████████████████████████████████████████████████████████████████████████████████████████████████████████████▊                                                                                          | 5/9 [00:56<00:55, 13.76s/it]"
     ]
    },
    {
     "name": "stdout",
     "output_type": "stream",
     "text": [
      "Clusters = 6, Iteration number = 1\n",
      "Clusters = 6, Iteration number = 2\n",
      "Clusters = 6, Iteration number = 3\n",
      "Clusters = 6, Iteration number = 4\n",
      "Clusters = 6, Iteration number = 5\n",
      "Clusters = 6, Iteration number = 6\n",
      "Clusters = 6, Iteration number = 7\n",
      "Clusters = 6, Iteration number = 8\n",
      "Clusters = 6, Iteration number = 9\n",
      "Clusters = 6, Iteration number = 10\n",
      "Clusters = 6, Iteration number = 11\n",
      "Clusters = 6, Iteration number = 12\n",
      "Clusters = 6, Iteration number = 13\n",
      "Clusters = 6, Iteration number = 14\n",
      "Clusters = 6, Iteration number = 15\n",
      "Clusters = 6, Iteration number = 16\n",
      "Clusters = 6, Iteration number = 17\n",
      "Clusters = 6, Iteration number = 18\n",
      "Clusters = 6, Iteration number = 19\n",
      "Clusters = 6, Iteration number = 20\n",
      "Clusters = 6, Iteration number = 21\n",
      "Clusters = 6, Iteration number = 22\n",
      "Clusters = 6, Iteration number = 23\n",
      "Clusters = 6, Iteration number = 24\n",
      "Clusters = 6, Iteration number = 25\n",
      "Clusters = 6, Iteration number = 26\n",
      "Clusters = 6, Iteration number = 27\n",
      "Clusters = 6, Iteration number = 28\n",
      "Clusters = 6, Iteration number = 29\n",
      "Clusters = 6, Iteration number = 30\n",
      "Clusters = 6, Iteration number = 31\n"
     ]
    },
    {
     "name": "stderr",
     "output_type": "stream",
     "text": [
      " 67%|███████████████████████████████████████████████████████████████████████████████████████████████████████████████████████████████████████▎                                                                   | 6/9 [01:36<01:07, 22.53s/it]"
     ]
    },
    {
     "name": "stdout",
     "output_type": "stream",
     "text": [
      "Clusters = 7, Iteration number = 1\n",
      "Clusters = 7, Iteration number = 2\n",
      "Clusters = 7, Iteration number = 3\n",
      "Clusters = 7, Iteration number = 4\n",
      "Clusters = 7, Iteration number = 5\n",
      "Clusters = 7, Iteration number = 6\n",
      "Clusters = 7, Iteration number = 7\n",
      "Clusters = 7, Iteration number = 8\n",
      "Clusters = 7, Iteration number = 9\n",
      "Clusters = 7, Iteration number = 10\n",
      "Clusters = 7, Iteration number = 11\n",
      "Clusters = 7, Iteration number = 12\n",
      "Clusters = 7, Iteration number = 13\n",
      "Clusters = 7, Iteration number = 14\n",
      "Clusters = 7, Iteration number = 15\n",
      "Clusters = 7, Iteration number = 16\n",
      "Clusters = 7, Iteration number = 17\n",
      "Clusters = 7, Iteration number = 18\n",
      "Clusters = 7, Iteration number = 19\n",
      "Clusters = 7, Iteration number = 20\n",
      "Clusters = 7, Iteration number = 21\n",
      "Clusters = 7, Iteration number = 22\n",
      "Clusters = 7, Iteration number = 23\n",
      "Clusters = 7, Iteration number = 24\n",
      "Clusters = 7, Iteration number = 25\n",
      "Clusters = 7, Iteration number = 26\n",
      "Clusters = 7, Iteration number = 27\n",
      "Clusters = 7, Iteration number = 28\n",
      "Clusters = 7, Iteration number = 29\n",
      "Clusters = 7, Iteration number = 30\n",
      "Clusters = 7, Iteration number = 31\n",
      "Clusters = 7, Iteration number = 32\n",
      "Clusters = 7, Iteration number = 33\n",
      "Clusters = 7, Iteration number = 34\n",
      "Clusters = 7, Iteration number = 35\n",
      "Clusters = 7, Iteration number = 36\n",
      "Clusters = 7, Iteration number = 37\n",
      "Clusters = 7, Iteration number = 38\n",
      "Clusters = 7, Iteration number = 39\n"
     ]
    },
    {
     "name": "stderr",
     "output_type": "stream",
     "text": [
      " 78%|█████████████████████████████████████████████████████████████████████████████████████████████████████████████████████████████████████████████████████████████▉                                             | 7/9 [02:27<01:03, 31.90s/it]"
     ]
    },
    {
     "name": "stdout",
     "output_type": "stream",
     "text": [
      "Clusters = 8, Iteration number = 1\n",
      "Clusters = 8, Iteration number = 2\n",
      "Clusters = 8, Iteration number = 3\n",
      "Clusters = 8, Iteration number = 4\n",
      "Clusters = 8, Iteration number = 5\n",
      "Clusters = 8, Iteration number = 6\n",
      "Clusters = 8, Iteration number = 7\n",
      "Clusters = 8, Iteration number = 8\n",
      "Clusters = 8, Iteration number = 9\n",
      "Clusters = 8, Iteration number = 10\n",
      "Clusters = 8, Iteration number = 11\n",
      "Clusters = 8, Iteration number = 12\n",
      "Clusters = 8, Iteration number = 13\n",
      "Clusters = 8, Iteration number = 14\n",
      "Clusters = 8, Iteration number = 15\n",
      "Clusters = 8, Iteration number = 16\n"
     ]
    },
    {
     "name": "stderr",
     "output_type": "stream",
     "text": [
      " 89%|████████████████████████████████████████████████████████████████████████████████████████████████████████████████████████████████████████████████████████████████████████████████████▍                      | 8/9 [02:48<00:28, 28.47s/it]"
     ]
    },
    {
     "name": "stdout",
     "output_type": "stream",
     "text": [
      "Clusters = 9, Iteration number = 1\n",
      "Clusters = 9, Iteration number = 2\n",
      "Clusters = 9, Iteration number = 3\n",
      "Clusters = 9, Iteration number = 4\n",
      "Clusters = 9, Iteration number = 5\n",
      "Clusters = 9, Iteration number = 6\n",
      "Clusters = 9, Iteration number = 7\n",
      "Clusters = 9, Iteration number = 8\n",
      "Clusters = 9, Iteration number = 9\n",
      "Clusters = 9, Iteration number = 10\n",
      "Clusters = 9, Iteration number = 11\n",
      "Clusters = 9, Iteration number = 12\n",
      "Clusters = 9, Iteration number = 13\n",
      "Clusters = 9, Iteration number = 14\n",
      "Clusters = 9, Iteration number = 15\n",
      "Clusters = 9, Iteration number = 16\n",
      "Clusters = 9, Iteration number = 17\n",
      "Clusters = 9, Iteration number = 18\n"
     ]
    },
    {
     "name": "stderr",
     "output_type": "stream",
     "text": [
      "100%|███████████████████████████████████████████████████████████████████████████████████████████████████████████████████████████████████████████████████████████████████████████████████████████████████████████| 9/9 [03:13<00:00, 21.51s/it]\n"
     ]
    }
   ],
   "source": [
    "#Fitting the model for different number of clusters\n",
    "l = []\n",
    "for i in tqdm(range(1,10)):\n",
    "    model = KMeansJaccard(n_clusters=i, max_iter=100)\n",
    "    model.fit(bog_matrix)\n",
    "    l.append(model.inertia(bog_matrix))"
   ]
  },
  {
   "cell_type": "code",
   "execution_count": 12,
   "id": "8796156c-37dd-4a4e-a224-5b6ca54c4e81",
   "metadata": {},
   "outputs": [
    {
     "data": {
      "text/plain": [
       "[<matplotlib.lines.Line2D at 0x16677f990>]"
      ]
     },
     "execution_count": 12,
     "metadata": {},
     "output_type": "execute_result"
    },
    {
     "data": {
      "image/png": "[encoded data removed]",
      "text/plain": [
       "<Figure size 640x480 with 1 Axes>"
      ]
     },
     "metadata": {},
     "output_type": "display_data"
    }
   ],
   "source": [
    "plt.title(\"nips\")\n",
    "plt.xlabel(\"No. of clusters\")\n",
    "plt.ylabel(\"Inertia\")\n",
    "plt.plot(list(range(1,10)),l,c=\"b\",marker=\"o\",markerfacecolor=\"red\",markersize=10)"
   ]
  },
  {
   "cell_type": "code",
   "execution_count": 13,
   "id": "bb307c5d-4d11-47bc-87a3-f0856c9d7c20",
   "metadata": {},
   "outputs": [
    {
     "name": "stdout",
     "output_type": "stream",
     "text": [
      "Time taken: 532.4007608890533\n"
     ]
    }
   ],
   "source": [
    "end = time.time()\n",
    "print(\"Time taken:\",end-start)"
   ]
  },
  {
   "cell_type": "code",
   "execution_count": 18,
   "id": "26323363-ca51-417f-89b3-3e066758aedb",
   "metadata": {},
   "outputs": [
    {
     "name": "stderr",
     "output_type": "stream",
     "text": [
      "353160it [00:00, 514828.49it/s]"
     ]
    },
    {
     "name": "stdout",
     "output_type": "stream",
     "text": [
      "3430 6906 353160\n"
     ]
    },
    {
     "name": "stderr",
     "output_type": "stream",
     "text": [
      "\n"
     ]
    }
   ],
   "source": [
    "start = time.time()\n",
    "docword_file = \"/Users/arkaroy/Downloads/bag_of_words/docword.kos.txt\"\n",
    "\n",
    "with open(docword_file, 'r') as f:\n",
    "    header_lines = [next(f) for _ in range(3)]  # Read the first 3 lines\n",
    "    D, W, NNZ = map(int, header_lines)\n",
    "    bog_matrix = sp.lil_array((D,W), dtype='int8')\n",
    "    for line in tqdm(f):\n",
    "        docID, wordID, _ = map(int, line.split())\n",
    "        if docID <= D and wordID <= W:  # Check if indices are within range\n",
    "            bog_matrix[docID-1 , wordID-1] = 1  # Adjust index to start from 0\n",
    "        else:\n",
    "            print(\"Warning: Index out of range\")\n",
    "\n",
    "print(D, W, NNZ)"
   ]
  },
  {
   "cell_type": "code",
   "execution_count": 19,
   "id": "a5d7912f-783d-418d-9aad-d4e06e3d6dce",
   "metadata": {},
   "outputs": [
    {
     "name": "stderr",
     "output_type": "stream",
     "text": [
      "  0%|                                                                                                                                                                                                                   | 0/9 [00:00<?, ?it/s]"
     ]
    },
    {
     "name": "stdout",
     "output_type": "stream",
     "text": [
      "Clusters = 1, Iteration number = 1\n",
      "Clusters = 1, Iteration number = 2\n"
     ]
    },
    {
     "name": "stderr",
     "output_type": "stream",
     "text": [
      " 11%|██████████████████████▌                                                                                                                                                                                    | 1/9 [00:02<00:19,  2.39s/it]"
     ]
    },
    {
     "name": "stdout",
     "output_type": "stream",
     "text": [
      "Clusters = 2, Iteration number = 1\n",
      "Clusters = 2, Iteration number = 2\n",
      "Clusters = 2, Iteration number = 3\n",
      "Clusters = 2, Iteration number = 4\n",
      "Clusters = 2, Iteration number = 5\n",
      "Clusters = 2, Iteration number = 6\n",
      "Clusters = 2, Iteration number = 7\n",
      "Clusters = 2, Iteration number = 8\n",
      "Clusters = 2, Iteration number = 9\n",
      "Clusters = 2, Iteration number = 10\n",
      "Clusters = 2, Iteration number = 11\n",
      "Clusters = 2, Iteration number = 12\n",
      "Clusters = 2, Iteration number = 13\n"
     ]
    },
    {
     "name": "stderr",
     "output_type": "stream",
     "text": [
      " 22%|█████████████████████████████████████████████                                                                                                                                                              | 2/9 [00:16<01:03,  9.06s/it]"
     ]
    },
    {
     "name": "stdout",
     "output_type": "stream",
     "text": [
      "Clusters = 3, Iteration number = 1\n",
      "Clusters = 3, Iteration number = 2\n",
      "Clusters = 3, Iteration number = 3\n",
      "Clusters = 3, Iteration number = 4\n",
      "Clusters = 3, Iteration number = 5\n",
      "Clusters = 3, Iteration number = 6\n",
      "Clusters = 3, Iteration number = 7\n",
      "Clusters = 3, Iteration number = 8\n",
      "Clusters = 3, Iteration number = 9\n",
      "Clusters = 3, Iteration number = 10\n",
      "Clusters = 3, Iteration number = 11\n",
      "Clusters = 3, Iteration number = 12\n",
      "Clusters = 3, Iteration number = 13\n",
      "Clusters = 3, Iteration number = 14\n",
      "Clusters = 3, Iteration number = 15\n",
      "Clusters = 3, Iteration number = 16\n",
      "Clusters = 3, Iteration number = 17\n",
      "Clusters = 3, Iteration number = 18\n",
      "Clusters = 3, Iteration number = 19\n",
      "Clusters = 3, Iteration number = 20\n",
      "Clusters = 3, Iteration number = 21\n",
      "Clusters = 3, Iteration number = 22\n",
      "Clusters = 3, Iteration number = 23\n",
      "Clusters = 3, Iteration number = 24\n",
      "Clusters = 3, Iteration number = 25\n",
      "Clusters = 3, Iteration number = 26\n",
      "Clusters = 3, Iteration number = 27\n",
      "Clusters = 3, Iteration number = 28\n",
      "Clusters = 3, Iteration number = 29\n",
      "Clusters = 3, Iteration number = 30\n",
      "Clusters = 3, Iteration number = 31\n",
      "Clusters = 3, Iteration number = 32\n"
     ]
    },
    {
     "name": "stderr",
     "output_type": "stream",
     "text": [
      " 33%|███████████████████████████████████████████████████████████████████▋                                                                                                                                       | 3/9 [00:51<02:07, 21.19s/it]"
     ]
    },
    {
     "name": "stdout",
     "output_type": "stream",
     "text": [
      "Clusters = 4, Iteration number = 1\n",
      "Clusters = 4, Iteration number = 2\n",
      "Clusters = 4, Iteration number = 3\n",
      "Clusters = 4, Iteration number = 4\n",
      "Clusters = 4, Iteration number = 5\n",
      "Clusters = 4, Iteration number = 6\n",
      "Clusters = 4, Iteration number = 7\n",
      "Clusters = 4, Iteration number = 8\n",
      "Clusters = 4, Iteration number = 9\n",
      "Clusters = 4, Iteration number = 10\n",
      "Clusters = 4, Iteration number = 11\n",
      "Clusters = 4, Iteration number = 12\n",
      "Clusters = 4, Iteration number = 13\n",
      "Clusters = 4, Iteration number = 14\n",
      "Clusters = 4, Iteration number = 15\n",
      "Clusters = 4, Iteration number = 16\n",
      "Clusters = 4, Iteration number = 17\n",
      "Clusters = 4, Iteration number = 18\n",
      "Clusters = 4, Iteration number = 19\n",
      "Clusters = 4, Iteration number = 20\n",
      "Clusters = 4, Iteration number = 21\n",
      "Clusters = 4, Iteration number = 22\n",
      "Clusters = 4, Iteration number = 23\n",
      "Clusters = 4, Iteration number = 24\n",
      "Clusters = 4, Iteration number = 25\n",
      "Clusters = 4, Iteration number = 26\n",
      "Clusters = 4, Iteration number = 27\n",
      "Clusters = 4, Iteration number = 28\n"
     ]
    },
    {
     "name": "stderr",
     "output_type": "stream",
     "text": [
      " 44%|██████████████████████████████████████████████████████████████████████████████████████████▏                                                                                                                | 4/9 [01:24<02:09, 25.83s/it]"
     ]
    },
    {
     "name": "stdout",
     "output_type": "stream",
     "text": [
      "Clusters = 5, Iteration number = 1\n",
      "Clusters = 5, Iteration number = 2\n",
      "Clusters = 5, Iteration number = 3\n",
      "Clusters = 5, Iteration number = 4\n",
      "Clusters = 5, Iteration number = 5\n",
      "Clusters = 5, Iteration number = 6\n",
      "Clusters = 5, Iteration number = 7\n",
      "Clusters = 5, Iteration number = 8\n",
      "Clusters = 5, Iteration number = 9\n",
      "Clusters = 5, Iteration number = 10\n",
      "Clusters = 5, Iteration number = 11\n",
      "Clusters = 5, Iteration number = 12\n",
      "Clusters = 5, Iteration number = 13\n",
      "Clusters = 5, Iteration number = 14\n",
      "Clusters = 5, Iteration number = 15\n",
      "Clusters = 5, Iteration number = 16\n",
      "Clusters = 5, Iteration number = 17\n",
      "Clusters = 5, Iteration number = 18\n",
      "Clusters = 5, Iteration number = 19\n",
      "Clusters = 5, Iteration number = 20\n",
      "Clusters = 5, Iteration number = 21\n",
      "Clusters = 5, Iteration number = 22\n",
      "Clusters = 5, Iteration number = 23\n",
      "Clusters = 5, Iteration number = 24\n",
      "Clusters = 5, Iteration number = 25\n",
      "Clusters = 5, Iteration number = 26\n"
     ]
    },
    {
     "name": "stderr",
     "output_type": "stream",
     "text": [
      " 56%|████████████████████████████████████████████████████████████████████████████████████████████████████████████████▊                                                                                          | 5/9 [01:57<01:52, 28.17s/it]"
     ]
    },
    {
     "name": "stdout",
     "output_type": "stream",
     "text": [
      "Clusters = 6, Iteration number = 1\n",
      "Clusters = 6, Iteration number = 2\n",
      "Clusters = 6, Iteration number = 3\n",
      "Clusters = 6, Iteration number = 4\n",
      "Clusters = 6, Iteration number = 5\n",
      "Clusters = 6, Iteration number = 6\n",
      "Clusters = 6, Iteration number = 7\n",
      "Clusters = 6, Iteration number = 8\n",
      "Clusters = 6, Iteration number = 9\n",
      "Clusters = 6, Iteration number = 10\n",
      "Clusters = 6, Iteration number = 11\n",
      "Clusters = 6, Iteration number = 12\n",
      "Clusters = 6, Iteration number = 13\n",
      "Clusters = 6, Iteration number = 14\n",
      "Clusters = 6, Iteration number = 15\n",
      "Clusters = 6, Iteration number = 16\n",
      "Clusters = 6, Iteration number = 17\n",
      "Clusters = 6, Iteration number = 18\n",
      "Clusters = 6, Iteration number = 19\n",
      "Clusters = 6, Iteration number = 20\n",
      "Clusters = 6, Iteration number = 21\n",
      "Clusters = 6, Iteration number = 22\n",
      "Clusters = 6, Iteration number = 23\n",
      "Clusters = 6, Iteration number = 24\n",
      "Clusters = 6, Iteration number = 25\n",
      "Clusters = 6, Iteration number = 26\n",
      "Clusters = 6, Iteration number = 27\n",
      "Clusters = 6, Iteration number = 28\n",
      "Clusters = 6, Iteration number = 29\n",
      "Clusters = 6, Iteration number = 30\n",
      "Clusters = 6, Iteration number = 31\n",
      "Clusters = 6, Iteration number = 32\n",
      "Clusters = 6, Iteration number = 33\n",
      "Clusters = 6, Iteration number = 34\n",
      "Clusters = 6, Iteration number = 35\n"
     ]
    },
    {
     "name": "stderr",
     "output_type": "stream",
     "text": [
      " 67%|███████████████████████████████████████████████████████████████████████████████████████████████████████████████████████████████████████▎                                                                   | 6/9 [02:40<01:40, 33.36s/it]"
     ]
    },
    {
     "name": "stdout",
     "output_type": "stream",
     "text": [
      "Clusters = 7, Iteration number = 1\n",
      "Clusters = 7, Iteration number = 2\n",
      "Clusters = 7, Iteration number = 3\n",
      "Clusters = 7, Iteration number = 4\n",
      "Clusters = 7, Iteration number = 5\n",
      "Clusters = 7, Iteration number = 6\n",
      "Clusters = 7, Iteration number = 7\n",
      "Clusters = 7, Iteration number = 8\n",
      "Clusters = 7, Iteration number = 9\n",
      "Clusters = 7, Iteration number = 10\n",
      "Clusters = 7, Iteration number = 11\n",
      "Clusters = 7, Iteration number = 12\n",
      "Clusters = 7, Iteration number = 13\n",
      "Clusters = 7, Iteration number = 14\n",
      "Clusters = 7, Iteration number = 15\n",
      "Clusters = 7, Iteration number = 16\n",
      "Clusters = 7, Iteration number = 17\n",
      "Clusters = 7, Iteration number = 18\n",
      "Clusters = 7, Iteration number = 19\n",
      "Clusters = 7, Iteration number = 20\n",
      "Clusters = 7, Iteration number = 21\n",
      "Clusters = 7, Iteration number = 22\n",
      "Clusters = 7, Iteration number = 23\n",
      "Clusters = 7, Iteration number = 24\n",
      "Clusters = 7, Iteration number = 25\n",
      "Clusters = 7, Iteration number = 26\n",
      "Clusters = 7, Iteration number = 27\n",
      "Clusters = 7, Iteration number = 28\n",
      "Clusters = 7, Iteration number = 29\n",
      "Clusters = 7, Iteration number = 30\n",
      "Clusters = 7, Iteration number = 31\n",
      "Clusters = 7, Iteration number = 32\n"
     ]
    },
    {
     "name": "stderr",
     "output_type": "stream",
     "text": [
      " 78%|█████████████████████████████████████████████████████████████████████████████████████████████████████████████████████████████████████████████████████████████▉                                             | 7/9 [03:21<01:11, 35.89s/it]"
     ]
    },
    {
     "name": "stdout",
     "output_type": "stream",
     "text": [
      "Clusters = 8, Iteration number = 1\n",
      "Clusters = 8, Iteration number = 2\n",
      "Clusters = 8, Iteration number = 3\n",
      "Clusters = 8, Iteration number = 4\n",
      "Clusters = 8, Iteration number = 5\n",
      "Clusters = 8, Iteration number = 6\n",
      "Clusters = 8, Iteration number = 7\n",
      "Clusters = 8, Iteration number = 8\n",
      "Clusters = 8, Iteration number = 9\n",
      "Clusters = 8, Iteration number = 10\n",
      "Clusters = 8, Iteration number = 11\n",
      "Clusters = 8, Iteration number = 12\n",
      "Clusters = 8, Iteration number = 13\n",
      "Clusters = 8, Iteration number = 14\n",
      "Clusters = 8, Iteration number = 15\n",
      "Clusters = 8, Iteration number = 16\n",
      "Clusters = 8, Iteration number = 17\n",
      "Clusters = 8, Iteration number = 18\n",
      "Clusters = 8, Iteration number = 19\n",
      "Clusters = 8, Iteration number = 20\n",
      "Clusters = 8, Iteration number = 21\n",
      "Clusters = 8, Iteration number = 22\n",
      "Clusters = 8, Iteration number = 23\n",
      "Clusters = 8, Iteration number = 24\n",
      "Clusters = 8, Iteration number = 25\n",
      "Clusters = 8, Iteration number = 26\n",
      "Clusters = 8, Iteration number = 27\n",
      "Clusters = 8, Iteration number = 28\n",
      "Clusters = 8, Iteration number = 29\n",
      "Clusters = 8, Iteration number = 30\n",
      "Clusters = 8, Iteration number = 31\n",
      "Clusters = 8, Iteration number = 32\n",
      "Clusters = 8, Iteration number = 33\n",
      "Clusters = 8, Iteration number = 34\n",
      "Clusters = 8, Iteration number = 35\n",
      "Clusters = 8, Iteration number = 36\n",
      "Clusters = 8, Iteration number = 37\n",
      "Clusters = 8, Iteration number = 38\n",
      "Clusters = 8, Iteration number = 39\n"
     ]
    },
    {
     "name": "stderr",
     "output_type": "stream",
     "text": [
      " 89%|████████████████████████████████████████████████████████████████████████████████████████████████████████████████████████████████████████████████████████████████████████████████████▍                      | 8/9 [04:14<00:41, 41.46s/it]"
     ]
    },
    {
     "name": "stdout",
     "output_type": "stream",
     "text": [
      "Clusters = 9, Iteration number = 1\n",
      "Clusters = 9, Iteration number = 2\n",
      "Clusters = 9, Iteration number = 3\n",
      "Clusters = 9, Iteration number = 4\n",
      "Clusters = 9, Iteration number = 5\n",
      "Clusters = 9, Iteration number = 6\n",
      "Clusters = 9, Iteration number = 7\n",
      "Clusters = 9, Iteration number = 8\n",
      "Clusters = 9, Iteration number = 9\n",
      "Clusters = 9, Iteration number = 10\n",
      "Clusters = 9, Iteration number = 11\n",
      "Clusters = 9, Iteration number = 12\n",
      "Clusters = 9, Iteration number = 13\n",
      "Clusters = 9, Iteration number = 14\n",
      "Clusters = 9, Iteration number = 15\n",
      "Clusters = 9, Iteration number = 16\n"
     ]
    },
    {
     "name": "stderr",
     "output_type": "stream",
     "text": [
      "100%|███████████████████████████████████████████████████████████████████████████████████████████████████████████████████████████████████████████████████████████████████████████████████████████████████████████| 9/9 [04:38<00:00, 30.90s/it]\n"
     ]
    }
   ],
   "source": [
    "#Fitting the model for different number of clusters\n",
    "l = []\n",
    "for i in tqdm(range(1,10)):\n",
    "    model = KMeansJaccard(n_clusters=i, max_iter=100)\n",
    "    model.fit(bog_matrix)\n",
    "    l.append(model.inertia(bog_matrix))"
   ]
  },
  {
   "cell_type": "code",
   "execution_count": 20,
   "id": "61069551-5f71-4903-adb9-87b0c1c91505",
   "metadata": {},
   "outputs": [
    {
     "data": {
      "text/plain": [
       "[<matplotlib.lines.Line2D at 0x28e2d98d0>]"
      ]
     },
     "execution_count": 20,
     "metadata": {},
     "output_type": "execute_result"
    },
    {
     "data": {
      "image/png": "[encoded data removed]",
      "text/plain": [
       "<Figure size 640x480 with 1 Axes>"
      ]
     },
     "metadata": {},
     "output_type": "display_data"
    }
   ],
   "source": [
    "plt.title(\"KOS\")\n",
    "plt.xlabel(\"No. of clusters\")\n",
    "plt.ylabel(\"Inertia\")\n",
    "plt.plot(list(range(1,10)),l,c=\"b\",marker=\"o\",markerfacecolor=\"red\",markersize=10)"
   ]
  },
  {
   "cell_type": "code",
   "execution_count": 21,
   "id": "8a14021b-5cc2-42e9-9f6d-0257671f6763",
   "metadata": {},
   "outputs": [
    {
     "name": "stdout",
     "output_type": "stream",
     "text": [
      "Time taken: 280.6006381511688\n"
     ]
    }
   ],
   "source": [
    "end = time.time()\n",
    "print(\"Time taken:\",end-start)"
   ]
  },
  {
   "cell_type": "code",
   "execution_count": null,
   "id": "e571f518-c209-462e-995e-6c959b28a797",
   "metadata": {},
   "outputs": [],
   "source": []
  }
 ],
 "metadata": {
  "kernelspec": {
   "display_name": "Python 3 (ipykernel)",
   "language": "python",
   "name": "python3"
  },
  "language_info": {
   "codemirror_mode": {
    "name": "ipython",
    "version": 3
   },
   "file_extension": ".py",
   "mimetype": "text/x-python",
   "name": "python",
   "nbconvert_exporter": "python",
   "pygments_lexer": "ipython3",
   "version": "3.11.4"
  }
 },
 "nbformat": 4,
 "nbformat_minor": 5
}
